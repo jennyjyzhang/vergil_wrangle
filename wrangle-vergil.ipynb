{
 "cells": [
  {
   "cell_type": "markdown",
   "metadata": {},
   "source": [
    "## Reformat original json files"
   ]
  },
  {
   "cell_type": "code",
   "execution_count": 36,
   "metadata": {},
   "outputs": [
    {
     "name": "stdout",
     "output_type": "stream",
     "text": [
      "Lecture\n",
      "Recitation\n",
      "Seminar\n",
      "Studio\n",
      "Independent\n",
      "Discussion\n",
      "Laboratory\n",
      "Conversation\n",
      "Language\n",
      "Rehearsal\n",
      "Field Work\n",
      "Workshop\n",
      "Practica\n",
      "Research Sem\n",
      "Oral/Aural P\n",
      "Colloquia\n",
      "Tutorial\n",
      "Physical Edu\n",
      "Online Cours\n",
      "Registration\n"
     ]
    },
    {
     "data": {
      "text/plain": [
       "'\\nwith open(\"spring2021ugradData.json\",\"w\") as write:\\n    json.dump(alltimeDicts, write, indent = 4)\\n'"
      ]
     },
     "execution_count": 36,
     "metadata": {},
     "output_type": "execute_result"
    }
   ],
   "source": [
    "import json\n",
    "\n",
    "with open(\"C:/Users/Administrator/Desktop/spec/vergil_wrangle/fall2020/fall2020(jan2).json\", \"r\") as read_file:\n",
    "    vergil = json.load(read_file)\n",
    "    read_file.close()\n",
    "\n",
    "#put all 0000-4000 level courses in 'undergrad' array\n",
    "undergrad = []\n",
    "for course in vergil:\n",
    "    courseId = course[\"course\"][\"course_identifier\"]\n",
    "    \n",
    "    if len(courseId) == 9 or len(courseId) == 10:\n",
    "        if courseId[-4].isdigit():\n",
    "            if int(courseId[-4]) <= 4:\n",
    "                #print(courseId)\n",
    "                undergrad.append(course[\"course\"])\n",
    "                \n",
    "#print(len(undergrad)) \n",
    "#print(undergrad[2:3])\n",
    "\n",
    "#extract each course section's time and max enrollment\n",
    "alltimeDicts = {}\n",
    "types = []\n",
    "for course in undergrad:\n",
    "    courseId = course[\"course_identifier\"]\n",
    "    \n",
    "    sections = course[\"classes\"][\"class\"]\n",
    "    times = []\n",
    "    info = {}\n",
    "    \n",
    "    \n",
    "    for section in sections:\n",
    "        timesListed = section[\"days_times\"]\n",
    "        size = section[\"enrollment\"][\"max\"]\n",
    "        classtype = section[\"type\"][\"type_code\"]\n",
    "        classtypename = section[\"type\"][\"name\"]\n",
    "        \n",
    "        #print(classtype, classtypename)\n",
    "        \n",
    "        for day in timesListed:\n",
    "            startT = day[\"mil_time_from\"]\n",
    "            endT = day[\"mil_time_to\"]\n",
    "            time = [startT, endT]\n",
    "            if startT and endT:\n",
    "                times.append(time)\n",
    "                if classtypename not in types:\n",
    "                    types.append(classtypename)\n",
    "    \n",
    "    \n",
    "    if times:\n",
    "        info.update({\"size\": size})\n",
    "        info.update({\"times\": times})\n",
    "        info.update({\"type\": classtypename})\n",
    "        \n",
    "    if info:\n",
    "        alltimeDicts.update({courseId: info})\n",
    "\n",
    "for type in types:\n",
    "    print(type)\n",
    "\n",
    "#print(len(alltimeDicts))\n",
    "#print(alltimeDicts)\n",
    "\n",
    "#write to json\n",
    "'''\n",
    "with open(\"spring2021ugradData.json\",\"w\") as write:\n",
    "    json.dump(alltimeDicts, write, indent = 4)\n",
    "'''"
   ]
  },
  {
   "cell_type": "markdown",
   "metadata": {},
   "source": [
    "## Convert time zones"
   ]
  },
  {
   "cell_type": "code",
   "execution_count": 7,
   "metadata": {
    "scrolled": true
   },
   "outputs": [],
   "source": [
    "from datetime import datetime, timezone\n",
    "import pytz\n",
    "from parse import *\n",
    "import json\n",
    "\n",
    "with open(\"spring2020ugradData.json\", \"r\") as read_file:\n",
    "    ugrad = json.load(read_file)\n",
    "    read_file.close()\n",
    "    \n",
    "# for tz in pytz.all_timezones:\n",
    "#     print(tz)\n",
    "\n",
    "#set standard date as 01-01-2020 \n",
    "#not during daylight savings, so 23 hrs between nyc and beijing instead of 24\n",
    "standard = \"01-01-2020 \"\n",
    "\n",
    "fmt = \"%H:%M\"\n",
    "\n",
    "#timezone variables\n",
    "ny = pytz.timezone('America/New_York')\n",
    "bj = pytz.timezone('Asia/Shanghai')\n",
    "la = pytz.timezone('America/Los_Angeles')\n",
    "\n",
    "def convert(targetZone, timeStr):\n",
    "    dt = datetime.strptime(timeStr, \"%d-%m-%Y %H:%M:%S\")\n",
    "    dt = ny.localize(dt)\n",
    "    dtconverted = dt.astimezone(targetZone)\n",
    "    return dtconverted.strftime(fmt)\n",
    "\n",
    "bjArr = ugrad\n",
    "bjStartArr = []\n",
    "for course in ugrad:\n",
    "    for time in ugrad[course][\"times\"]:\n",
    "        start = time[0]\n",
    "        start = standard + start + \":00\"\n",
    "        bjArr[course][\"times\"][0][0] = convert(bj, start)\n",
    "\n",
    "        end = time[1]\n",
    "        end = standard + end + \":00\"\n",
    "        bjArr[course][\"times\"][0][1] = convert(bj, end)\n",
    "        \n",
    "    bjStartArr.append(convert(bj, start))\n",
    "\n",
    "#print(bjArr)\n",
    "#print(bjStartArr)\n",
    "\n",
    "with open(\"spring2020ugrad_bj.json\",\"w\") as write:\n",
    "    json.dump(bjArr, write, indent = 4)"
   ]
  },
  {
   "cell_type": "markdown",
   "metadata": {},
   "source": [
    "## Check class sizes"
   ]
  },
  {
   "cell_type": "code",
   "execution_count": 39,
   "metadata": {},
   "outputs": [
    {
     "name": "stdout",
     "output_type": "stream",
     "text": [
      "DNCEBC2250 20\n",
      "DNCEBC2139 23\n",
      "DNCEBC2137 23\n",
      "DNCEBC1332 25\n",
      "DNCEBC1330 35\n",
      "DNCEBC1250 20\n",
      "DNCEBC1247 20\n",
      "DNCEBC3601 15\n",
      "DNCEBC3335 25\n",
      "DNCEBC3332 25\n",
      "DNCEBC3250 15\n",
      "DNCEBC3249 25\n",
      "DNCEBC3140 25\n",
      "DNCEBC1137 25\n",
      "DNCEBC3138 25\n",
      "DNCEBC2452 25\n",
      "DNCEBC2334 25\n",
      "DNCEBC2332 25\n",
      "DNCEBC2255 40\n",
      "DNCEBC2253 25\n",
      "DNCEBC2252 30\n",
      "DNCEBC1135 23\n",
      "AHISBC3530 999\n",
      "AHISBC3003 18\n",
      "VIARR1700 13\n",
      "MUSIW4630 15\n",
      "ARCHA4005 999\n",
      "ARCHA4510 999\n",
      "ARCHA4003 999\n",
      "ARCHA4001 999\n",
      "PNTGK0100 15\n",
      "DRAWK0100 15\n",
      "ARCHV3201 100\n",
      "ARCHV2103 100\n",
      "ARCHV2101 100\n",
      "ARCHW1020 100\n",
      "THTRV3405 999\n",
      "THTRV3300 999\n",
      "THTRV3200 999\n",
      "230.94871794871796\n"
     ]
    }
   ],
   "source": [
    "import json\n",
    "import statistics as stats\n",
    "\n",
    "with open(\"C:/Users/Administrator/Desktop/spec/vergil_wrangle/fall2020/fall2020ugradData.json\", \"r\") as read_file:\n",
    "    courses = json.load(read_file)\n",
    "    read_file.close()\n",
    "    \n",
    "size = []    \n",
    "nullCount = 0\n",
    "for course in courses:\n",
    "    if not courses[course][\"size\"]:\n",
    "        #print(course)\n",
    "        nullCount+=1\n",
    "    else:\n",
    "        if courses[course][\"type\"] == \"Studio\":\n",
    "            print(course , courses[course][\"size\"])\n",
    "            size.append(int(courses[course][\"size\"]))\n",
    "        \n",
    "print(stats.mean(size))"
   ]
  },
  {
   "cell_type": "code",
   "execution_count": null,
   "metadata": {},
   "outputs": [],
   "source": [
    "import matplotlib.pyplot as plt\n",
    "import matplotlib.dates as mdates\n",
    "from matplotlib.collections import PolyCollection\n",
    "\n",
    "\n"
   ]
  },
  {
   "cell_type": "code",
   "execution_count": 196,
   "metadata": {
    "collapsed": true,
    "jupyter": {
     "outputs_hidden": true
    }
   },
   "outputs": [
    {
     "ename": "FileNotFoundError",
     "evalue": "[Errno 2] No such file or directory: 'Desktop/spec/vergil_wrangle/bjStartTime.csv'",
     "output_type": "error",
     "traceback": [
      "\u001b[1;31m---------------------------------------------------------------------------\u001b[0m",
      "\u001b[1;31mFileNotFoundError\u001b[0m                         Traceback (most recent call last)",
      "\u001b[1;32m<ipython-input-196-bf29797593ad>\u001b[0m in \u001b[0;36m<module>\u001b[1;34m\u001b[0m\n\u001b[0;32m     13\u001b[0m     \u001b[0mi\u001b[0m\u001b[1;33m+=\u001b[0m\u001b[1;36m1\u001b[0m\u001b[1;33m\u001b[0m\u001b[1;33m\u001b[0m\u001b[0m\n\u001b[0;32m     14\u001b[0m \u001b[1;33m\u001b[0m\u001b[0m\n\u001b[1;32m---> 15\u001b[1;33m \u001b[0mwb\u001b[0m\u001b[1;33m.\u001b[0m\u001b[0msave\u001b[0m\u001b[1;33m(\u001b[0m\u001b[1;34m'Desktop/spec/vergil_wrangle/bjStartTime.csv'\u001b[0m\u001b[1;33m)\u001b[0m\u001b[1;33m\u001b[0m\u001b[1;33m\u001b[0m\u001b[0m\n\u001b[0m",
      "\u001b[1;32mC:\\ProgramData\\Anaconda3\\lib\\site-packages\\xlwt\\Workbook.py\u001b[0m in \u001b[0;36msave\u001b[1;34m(self, filename_or_stream)\u001b[0m\n\u001b[0;32m    708\u001b[0m \u001b[1;33m\u001b[0m\u001b[0m\n\u001b[0;32m    709\u001b[0m         \u001b[0mdoc\u001b[0m \u001b[1;33m=\u001b[0m \u001b[0mCompoundDoc\u001b[0m\u001b[1;33m.\u001b[0m\u001b[0mXlsDoc\u001b[0m\u001b[1;33m(\u001b[0m\u001b[1;33m)\u001b[0m\u001b[1;33m\u001b[0m\u001b[1;33m\u001b[0m\u001b[0m\n\u001b[1;32m--> 710\u001b[1;33m         \u001b[0mdoc\u001b[0m\u001b[1;33m.\u001b[0m\u001b[0msave\u001b[0m\u001b[1;33m(\u001b[0m\u001b[0mfilename_or_stream\u001b[0m\u001b[1;33m,\u001b[0m \u001b[0mself\u001b[0m\u001b[1;33m.\u001b[0m\u001b[0mget_biff_data\u001b[0m\u001b[1;33m(\u001b[0m\u001b[1;33m)\u001b[0m\u001b[1;33m)\u001b[0m\u001b[1;33m\u001b[0m\u001b[1;33m\u001b[0m\u001b[0m\n\u001b[0m\u001b[0;32m    711\u001b[0m \u001b[1;33m\u001b[0m\u001b[0m\n\u001b[0;32m    712\u001b[0m \u001b[1;33m\u001b[0m\u001b[0m\n",
      "\u001b[1;32mC:\\ProgramData\\Anaconda3\\lib\\site-packages\\xlwt\\CompoundDoc.py\u001b[0m in \u001b[0;36msave\u001b[1;34m(self, file_name_or_filelike_obj, stream)\u001b[0m\n\u001b[0;32m    260\u001b[0m         \u001b[0mwe_own_it\u001b[0m \u001b[1;33m=\u001b[0m \u001b[1;32mnot\u001b[0m \u001b[0mhasattr\u001b[0m\u001b[1;33m(\u001b[0m\u001b[0mf\u001b[0m\u001b[1;33m,\u001b[0m \u001b[1;34m'write'\u001b[0m\u001b[1;33m)\u001b[0m\u001b[1;33m\u001b[0m\u001b[1;33m\u001b[0m\u001b[0m\n\u001b[0;32m    261\u001b[0m         \u001b[1;32mif\u001b[0m \u001b[0mwe_own_it\u001b[0m\u001b[1;33m:\u001b[0m\u001b[1;33m\u001b[0m\u001b[1;33m\u001b[0m\u001b[0m\n\u001b[1;32m--> 262\u001b[1;33m             \u001b[0mf\u001b[0m \u001b[1;33m=\u001b[0m \u001b[0mopen\u001b[0m\u001b[1;33m(\u001b[0m\u001b[0mfile_name_or_filelike_obj\u001b[0m\u001b[1;33m,\u001b[0m \u001b[1;34m'w+b'\u001b[0m\u001b[1;33m)\u001b[0m\u001b[1;33m\u001b[0m\u001b[1;33m\u001b[0m\u001b[0m\n\u001b[0m\u001b[0;32m    263\u001b[0m         \u001b[0mf\u001b[0m\u001b[1;33m.\u001b[0m\u001b[0mwrite\u001b[0m\u001b[1;33m(\u001b[0m\u001b[0mself\u001b[0m\u001b[1;33m.\u001b[0m\u001b[0mheader\u001b[0m\u001b[1;33m)\u001b[0m\u001b[1;33m\u001b[0m\u001b[1;33m\u001b[0m\u001b[0m\n\u001b[0;32m    264\u001b[0m         \u001b[0mf\u001b[0m\u001b[1;33m.\u001b[0m\u001b[0mwrite\u001b[0m\u001b[1;33m(\u001b[0m\u001b[0mself\u001b[0m\u001b[1;33m.\u001b[0m\u001b[0mpacked_MSAT_1st\u001b[0m\u001b[1;33m)\u001b[0m\u001b[1;33m\u001b[0m\u001b[1;33m\u001b[0m\u001b[0m\n",
      "\u001b[1;31mFileNotFoundError\u001b[0m: [Errno 2] No such file or directory: 'Desktop/spec/vergil_wrangle/bjStartTime.csv'"
     ]
    }
   ],
   "source": [
    "import xlwt \n",
    "from xlwt import Workbook \n",
    "  \n",
    "# Workbook is created \n",
    "wb = Workbook() \n",
    "  \n",
    "# add_sheet is used to create sheet. \n",
    "sheet1 = wb.add_sheet('Sheet 1') \n",
    "\n",
    "i = 0\n",
    "for starttime in bjStartArr:\n",
    "    sheet1.write(i, 0, starttime)\n",
    "    i+=1\n",
    "  \n",
    "wb.save('Desktop/spec/vergil_wrangle/bjStartTime.csv') "
   ]
  }
 ],
 "metadata": {
  "kernelspec": {
   "display_name": "Python 3",
   "language": "python",
   "name": "python3"
  },
  "language_info": {
   "codemirror_mode": {
    "name": "ipython",
    "version": 3
   },
   "file_extension": ".py",
   "mimetype": "text/x-python",
   "name": "python",
   "nbconvert_exporter": "python",
   "pygments_lexer": "ipython3",
   "version": "3.7.6"
  }
 },
 "nbformat": 4,
 "nbformat_minor": 4
}
